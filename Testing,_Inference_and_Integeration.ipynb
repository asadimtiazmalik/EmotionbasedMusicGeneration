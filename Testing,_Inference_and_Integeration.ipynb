{
  "nbformat": 4,
  "nbformat_minor": 0,
  "metadata": {
    "colab": {
      "name": "Testing, Inference and Integeration.ipynb",
      "provenance": [],
      "authorship_tag": "ABX9TyM8u8uE5dkWrK9X6+11War/"
    },
    "kernelspec": {
      "name": "python3",
      "display_name": "Python 3"
    },
    "language_info": {
      "name": "python"
    },
    "accelerator": "GPU"
  },
  "cells": [
    {
      "cell_type": "code",
      "execution_count": 1,
      "metadata": {
        "colab": {
          "base_uri": "https://localhost:8080/"
        },
        "id": "TR3Drb0Ifnsa",
        "outputId": "f3a08f61-d653-4359-fd43-b75a4b312544"
      },
      "outputs": [
        {
          "output_type": "stream",
          "name": "stdout",
          "text": [
            "Mounted at /content/drive\n"
          ]
        }
      ],
      "source": [
        "from google.colab import drive\n",
        "drive.mount('/content/drive')"
      ]
    },
    {
      "cell_type": "code",
      "source": [
        "%%shell \n",
        "mkdir EmoticDataHub\n",
        "cd /content/EmoticDataHub\n",
        "unzip /content/drive/MyDrive/emotic.zip"
      ],
      "metadata": {
        "id": "ECoAcjkBfpUP"
      },
      "execution_count": null,
      "outputs": []
    },
    {
      "cell_type": "code",
      "source": [
        "%%shell \n",
        "git clone https://github.com/Tandon-A/emotic.git"
      ],
      "metadata": {
        "colab": {
          "base_uri": "https://localhost:8080/"
        },
        "id": "K9jZTJgtgPd_",
        "outputId": "8ce3e57b-dd86-4bf8-99ae-045b9a7f87ca"
      },
      "execution_count": 3,
      "outputs": [
        {
          "output_type": "stream",
          "name": "stdout",
          "text": [
            "Cloning into 'emotic'...\n",
            "remote: Enumerating objects: 333, done.\u001b[K\n",
            "remote: Counting objects: 100% (78/78), done.\u001b[K\n",
            "remote: Compressing objects: 100% (32/32), done.\u001b[K\n",
            "remote: Total 333 (delta 67), reused 49 (delta 46), pack-reused 255\u001b[K\n",
            "Receiving objects: 100% (333/333), 48.56 MiB | 44.80 MiB/s, done.\n",
            "Resolving deltas: 100% (190/190), done.\n"
          ]
        },
        {
          "output_type": "execute_result",
          "data": {
            "text/plain": [
              ""
            ]
          },
          "metadata": {},
          "execution_count": 3
        }
      ]
    },
    {
      "cell_type": "code",
      "source": [
        "%cd emotic/"
      ],
      "metadata": {
        "colab": {
          "base_uri": "https://localhost:8080/"
        },
        "id": "OxE8FR9_Im6j",
        "outputId": "399fa8fa-d8af-46ba-d5ee-7daa1e1b086a"
      },
      "execution_count": 4,
      "outputs": [
        {
          "output_type": "stream",
          "name": "stdout",
          "text": [
            "/content/emotic\n"
          ]
        }
      ]
    },
    {
      "cell_type": "code",
      "source": [
        "from yolo_utils import prepare_yolo\n",
        "from yolo_inference import get_bbox\n",
        "import cv2\n",
        "\n",
        "yolo = prepare_yolo('/content')\n",
        "yolo = yolo.to(device)\n",
        "yolo.eval()\n",
        "\n",
        "image_context_path = '/content/test.jpeg'\n",
        "image_context = cv2.cvtColor(cv2.imread(image_context_path), cv2.COLOR_BGR2RGB)\n",
        "\n",
        "bbox = get_bbox(yolo, device, image_context)[0]\n",
        "with open('/content/img_list', 'a') as f:\n",
        "  f.write(image_context_path + \" \" + f'{bbox[0]} {bbox[1]} {bbox[2]} {bbox[3]}')"
      ],
      "metadata": {
        "colab": {
          "base_uri": "https://localhost:8080/"
        },
        "id": "02bsDVSUKyt4",
        "outputId": "4432dd9a-224e-4723-a798-5389ddad5867"
      },
      "execution_count": 13,
      "outputs": [
        {
          "output_type": "stream",
          "name": "stdout",
          "text": [
            "prepared yolo model\n"
          ]
        }
      ]
    },
    {
      "cell_type": "code",
      "source": [
        "import cv2\n",
        "import numpy as np \n",
        "import os \n",
        "\n",
        "import torch \n",
        "from torchvision import transforms\n",
        "\n",
        "from emotic import Emotic \n",
        "import matplotlib.pyplot as plt\n",
        "\n",
        "\n",
        "def process_images(context_norm, body_norm, image_context_path=None, image_context=None, image_body=None, bbox=None):\n",
        "  ''' Prepare context and body image. \n",
        "  :param context_norm: List containing mean and std values for context images. \n",
        "  :param body_norm: List containing mean and std values for body images. \n",
        "  :param image_context_path: Path of the context image. \n",
        "  :param image_context: Numpy array of the context image.\n",
        "  :param image_body: Numpy array of the body image. \n",
        "  :param bbox: List to specify the bounding box to generate the body image. bbox = [x1, y1, x2, y2].\n",
        "  :return: Transformed image_context tensor and image_body tensor.\n",
        "  '''\n",
        "  if image_context is None and image_context_path is None:\n",
        "    raise ValueError('both image_context and image_context_path cannot be none. Please specify one of the two.')\n",
        "  if image_body is None and bbox is None: \n",
        "    raise ValueError('both body image and bounding box cannot be none. Please specify one of the two')\n",
        "\n",
        "  if image_context_path is not None:\n",
        "    image_context =  cv2.cvtColor(cv2.imread(image_context_path), cv2.COLOR_BGR2RGB)\n",
        "  \n",
        "  if bbox is not None:\n",
        "    image_body = image_context[bbox[1]:bbox[3],bbox[0]:bbox[2]].copy()\n",
        "  \n",
        "  image_context = cv2.resize(image_context, (224,224))\n",
        "  image_body = cv2.resize(image_body, (128,128))\n",
        "  \n",
        "  test_transform = transforms.Compose([transforms.ToPILImage(),transforms.ToTensor()])\n",
        "  context_norm = transforms.Normalize(context_norm[0], context_norm[1])  \n",
        "  body_norm = transforms.Normalize(body_norm[0], body_norm[1])\n",
        "\n",
        "  image_context = context_norm(test_transform(image_context)).unsqueeze(0)\n",
        "  image_body = body_norm(test_transform(image_body)).unsqueeze(0)\n",
        "\n",
        "  return image_context, image_body  \n",
        "\n",
        "\n",
        "def infer(context_norm, body_norm, ind2cat, ind2vad, device, thresholds, models, image_context_path=None, image_context=None, image_body=None, bbox=None, to_print=True):\n",
        "  ''' Perform inference over an image. \n",
        "  :param context_norm: List containing mean and std values for context images. \n",
        "  :param body_norm: List containing mean and std values for body images. \n",
        "  :param ind2cat: Dictionary converting integer index to categorical emotion. \n",
        "  :param ind2vad: Dictionary converting integer index to continuous emotion dimension (Valence, Arousal and Dominance).\n",
        "  :param device: Torch device. Used to send tensors to GPU if available.\n",
        "  :param image_context_path: Path of the context image. \n",
        "  :param image_context: Numpy array of the context image.\n",
        "  :param image_body: Numpy array of the body image. \n",
        "  :param bbox: List to specify the bounding box to generate the body image. bbox = [x1, y1, x2, y2].\n",
        "  :param to_print: Variable to display inference results.\n",
        "  :return: Categorical Emotions list and continuous emotion dimensions numpy array.\n",
        "  '''\n",
        "  image_context, image_body = process_images(context_norm, body_norm, image_context_path=image_context_path, image_context=image_context, image_body=image_body, bbox=bbox)\n",
        "\n",
        "  model_context, model_body, emotic_model = models\n",
        "\n",
        "  with torch.no_grad():\n",
        "    image_context = image_context.to(device)\n",
        "    image_body = image_body.to(device)\n",
        "    \n",
        "    pred_context = model_context(image_context)\n",
        "    pred_body = model_body(image_body)\n",
        "    pred_cat, pred_cont = emotic_model(pred_context, pred_body)\n",
        "    pred_cat = pred_cat.squeeze(0)\n",
        "    pred_cont = pred_cont.squeeze(0).to(\"cpu\").data.numpy()\n",
        "\n",
        "    bool_cat_pred = torch.gt(pred_cat, thresholds)\n",
        "  \n",
        "  cat_emotions = list()\n",
        "  for i in range(len(bool_cat_pred)):\n",
        "    if bool_cat_pred[i] == True:\n",
        "      cat_emotions.append(ind2cat[i])\n",
        "\n",
        "  if to_print == True:\n",
        "    print ('\\n Image predictions')\n",
        "    print ('Continuous Dimnesions Predictions') \n",
        "    for i in range(len(pred_cont)):\n",
        "      print ('Continuous %10s %.5f' %(ind2vad[i], 10*pred_cont[i]))\n",
        "    print ('Categorical Emotion Predictions')\n",
        "    for emotion in cat_emotions:\n",
        "      print ('Categorical %16s' %(emotion))\n",
        "  \n",
        "  return cat_emotions, 10*pred_cont\n",
        "\n",
        "\n",
        "def inference_emotic(images_list, model_path, result_path, context_norm, body_norm, ind2cat, ind2vad, args):\n",
        "  ''' Infer on list of images defined in a text file. Save the results in inference_file.txt in the directory specified by the result_path. \n",
        "  :param images_list: Text file specifying the images and their bounding box values to conduct inference. A row in the file is Path_of_image x1 y1 x2 y2. \n",
        "  :param model_path: Directory path to load models and val_thresholds to perform inference.\n",
        "  :param result_path: Directory path to save the results (text file containig categorical emotion and continuous emotion dimension prediction per image).\n",
        "  :param context_norm: List containing mean and std values for context images. \n",
        "  :param body_norm: List containing mean and std values for body images. \n",
        "  :param ind2cat: Dictionary converting integer index to categorical emotion. \n",
        "  :param ind2vad: Dictionary converting integer index to continuous emotion dimension (Valence, Arousal and Dominance).\n",
        "  :param args: Runtime arguments.\n",
        "  '''\n",
        "  with open(images_list, 'r') as f:\n",
        "    lines = f.readlines()\n",
        "  \n",
        "  device = torch.device(\"cuda:%s\" %(str(0)) if torch.cuda.is_available() else \"cpu\")\n",
        "  thresholds = torch.FloatTensor(np.load(os.path.join(result_path, 'val_thresholds.npy'))).to(device) \n",
        "  model_context = torch.load(os.path.join(model_path,'model_context1.pth')).to(device)\n",
        "  model_body = torch.load(os.path.join(model_path,'model_body1.pth')).to(device)\n",
        "  emotic_model = torch.load(os.path.join(model_path,'model_emotic1.pth')).to(device)\n",
        "  model_context.eval()\n",
        "  model_body.eval()\n",
        "  emotic_model.eval()\n",
        "  models = [model_context, model_body, emotic_model]\n",
        "\n",
        "\n",
        "  result_file = os.path.join('/content', 'inference_list.txt')\n",
        "  with open(result_file, 'w') as f:\n",
        "    pass\n",
        "  \n",
        "  for idx, line in enumerate(lines):\n",
        "    image_context_path, x1, y1, x2, y2 = line.split('\\n')[0].split(' ')\n",
        "\n",
        "    plt.imshow(plt.imread(image_context_path))\n",
        "    plt.show()\n",
        "\n",
        "    bbox = [int(x1), int(y1), int(x2), int(y2)]\n",
        "    pred_cat, pred_cont = infer(context_norm, body_norm, ind2cat, ind2vad, device, thresholds, models, image_context_path=image_context_path, bbox=bbox)\n",
        "    \n",
        "    write_line = list()\n",
        "    write_line.append(image_context_path)\n",
        "    for emotion in pred_cat:\n",
        "      write_line.append(emotion)\n",
        "    for continuous in pred_cont:\n",
        "      write_line.append(str('%.4f' %(continuous)))\n",
        "    write_line = ' '.join(write_line) \n",
        "    with open(result_file, 'a') as f:\n",
        "      f.writelines(write_line)\n",
        "      f.writelines('\\n')\n"
      ],
      "metadata": {
        "id": "PMwi7LQnIdf-"
      },
      "execution_count": 59,
      "outputs": []
    },
    {
      "cell_type": "code",
      "source": [
        "\n",
        "# inference_emotic(images_list ='/content/img_list',model_path='/content/drive/MyDrive/model', result_path='/content/img_list',ind2cat,args = 'inference')\n",
        "args = 0\n",
        "images_list ='/content/img_list'\n",
        "model_path='/content/drive/MyDrive/model'\n",
        "result_path='/content/drive/MyDrive/model/results'\n",
        "inference_emotic(images_list, model_path, result_path, context_norm, body_norm, ind2cat, ind2vad, args)"
      ],
      "metadata": {
        "colab": {
          "base_uri": "https://localhost:8080/",
          "height": 547
        },
        "id": "ADaUIe4HNKzO",
        "outputId": "57a6d74b-e873-48dc-ec01-5445177cabe7"
      },
      "execution_count": 60,
      "outputs": [
        {
          "output_type": "display_data",
          "data": {
            "text/plain": [
              "<Figure size 432x288 with 1 Axes>"
            ],
            "image/png": "[encoded data removed]"
          },
          "metadata": {
            "needs_background": "light"
          }
        },
        {
          "output_type": "stream",
          "name": "stdout",
          "text": [
            "\n",
            " Image predictions\n",
            "Continuous Dimnesions Predictions\n",
            "Continuous    Valence 5.59163\n",
            "Continuous    Arousal 4.96415\n",
            "Continuous  Dominance 5.67625\n",
            "Categorical Emotion Predictions\n",
            "Categorical        Affection\n",
            "Categorical        Annoyance\n",
            "Categorical      Disapproval\n",
            "Categorical     Disquietment\n",
            "Categorical  Doubt/Confusion\n",
            "Categorical             Fear\n",
            "Categorical        Happiness\n",
            "Categorical         Pleasure\n",
            "Categorical         Surprise\n"
          ]
        }
      ]
    },
    {
      "cell_type": "code",
      "source": [
        "# Categorical emotion classes\n",
        "cat = ['Affection', 'Anger', 'Annoyance', 'Anticipation', 'Aversion', 'Confidence', 'Disapproval', 'Disconnection',\n",
        "       'Disquietment', 'Doubt/Confusion', 'Embarrassment', 'Engagement', 'Esteem', 'Excitement', 'Fatigue', 'Fear',\n",
        "       'Happiness', 'Pain', 'Peace', 'Pleasure', 'Sadness', 'Sensitivity', 'Suffering', 'Surprise', 'Sympathy', 'Yearning']\n",
        "\n",
        "cat2ind = {}\n",
        "ind2cat = {}\n",
        "for idx, emotion in enumerate(cat):\n",
        "  cat2ind[emotion] = idx\n",
        "  ind2cat[idx] = emotion\n",
        "\n",
        "vad = ['Valence', 'Arousal', 'Dominance']\n",
        "ind2vad = {}\n",
        "for idx, continuous in enumerate(vad):\n",
        "  ind2vad[idx] = continuous"
      ],
      "metadata": {
        "id": "UVsfxIhASDEn"
      },
      "execution_count": 18,
      "outputs": []
    },
    {
      "cell_type": "code",
      "source": [
        "context_mean = [0.4690646, 0.4407227, 0.40508908]\n",
        "context_std = [0.2514227, 0.24312855, 0.24266963]\n",
        "body_mean = [0.43832874, 0.3964344, 0.3706214]\n",
        "body_std = [0.24784276, 0.23621225, 0.2323653]\n",
        "context_norm = [context_mean, context_std]\n",
        "body_norm = [body_mean, body_std]"
      ],
      "metadata": {
        "id": "fLSoDVbtRXY_"
      },
      "execution_count": 17,
      "outputs": []
    },
    {
      "cell_type": "code",
      "source": [
        "with open('/content/inference_list.txt', 'r') as f:\n",
        "  lines = f.readlines()\n",
        "  for line in lines:\n",
        "    va = line.split(' ')[-3:-1]\n"
      ],
      "metadata": {
        "id": "u1cYkpqQSFMG"
      },
      "execution_count": 32,
      "outputs": []
    },
    {
      "cell_type": "code",
      "source": [
        "import numpy as np\n",
        "VA = np.asarray(va,dtype=np.float32)"
      ],
      "metadata": {
        "id": "4g7_YfEvUo5V"
      },
      "execution_count": 46,
      "outputs": []
    },
    {
      "cell_type": "code",
      "source": [
        "def normalize_negative_one(Val_Arousal):\n",
        "    normalized_input = (Val_Arousal - 1) / (9 - 1)\n",
        "    return 2*normalized_input - 1"
      ],
      "metadata": {
        "id": "U_Lf8vbYY5Kh"
      },
      "execution_count": 57,
      "outputs": []
    },
    {
      "cell_type": "code",
      "source": [
        "def return_Quadrant(Valence_Arousal, thresh):\n",
        "  v,a = Valence_Arousal\n",
        "  if v>thresh and a>thresh:\n",
        "    return 1 \n",
        "  elif v<thresh and a>thresh:\n",
        "    return 2 \n",
        "  elif v<thresh and a<thresh:\n",
        "    return 3 \n",
        "  elif v>thresh and a<thresh:\n",
        "    return 4 \n"
      ],
      "metadata": {
        "id": "SHC9GMR6VF5b"
      },
      "execution_count": 48,
      "outputs": []
    },
    {
      "cell_type": "code",
      "source": [
        "emo_tag = return_Quadrant(normalize_negative_one(VA),0)"
      ],
      "metadata": {
        "colab": {
          "base_uri": "https://localhost:8080/"
        },
        "id": "s80oqCo7YYMB",
        "outputId": "c861fcde-5628-4659-b0b5-bedbcb0423e2"
      },
      "execution_count": 58,
      "outputs": [
        {
          "output_type": "execute_result",
          "data": {
            "text/plain": [
              "4"
            ]
          },
          "metadata": {},
          "execution_count": 58
        }
      ]
    },
    {
      "cell_type": "code",
      "source": [
        ""
      ],
      "metadata": {
        "id": "D0K9Jq_AYctv"
      },
      "execution_count": null,
      "outputs": []
    }
  ]
}